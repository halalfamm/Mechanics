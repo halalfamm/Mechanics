{
 "cells": [
  {
   "cell_type": "code",
   "execution_count": 1,
   "id": "3ae9613e-b35b-4b77-8693-79b7a811da45",
   "metadata": {},
   "outputs": [],
   "source": [
    " "
   ]
  },
  {
   "cell_type": "code",
   "execution_count": null,
   "id": "dd37fef4-4ca2-484b-8d76-4711267ead75",
   "metadata": {},
   "outputs": [],
   "source": [
    "import numpy as np\n",
    "import matplotlib.pyplot as plt\n",
    "\n",
    "g = 9.81  # gravity (m/s^2)\n",
    "\n",
    "\n",
    "u0    = float(input(\"enter projectile velocity in m/s:\"))\n",
    "theta = float(input(\"Enter angle of projectile (degrees):\"))\n",
    " \n",
    " \n",
    "ux = u0 * np.cos(np.radians(theta))\n",
    "uy = u0 * np.sin(np.radians(theta))\n",
    "\n",
    "# Time of flight\n",
    "time_of_flight = 2 * uy / g\n",
    "\n",
    "# Time array\n",
    "t = np.linspace(0, time_of_flight, 100)\n",
    "\n",
    " \n",
    "sx = ux * t\n",
    "sy = uy * t - 0.5 * g * t**2\n",
    "\n",
    " \n",
    "plt.figure(figsize=(10,5))\n",
    "plt.plot(sx, sy, label=rf'$\\theta = {theta}^\\circ$')\n",
    "plt.xlabel(\"Horizontal Distance (m)\")\n",
    "plt.ylabel(\"Vertical Height (m)\")\n",
    "plt.title(\"Projectile Motion\")\n",
    "plt.ylim(0,100)\n",
    "plt.legend()\n",
    "plt.show()"
   ]
  },
  {
   "cell_type": "code",
   "execution_count": null,
   "id": "ce507f4f-d20e-4fa9-810d-bf39dd266ec8",
   "metadata": {},
   "outputs": [],
   "source": []
  }
 ],
 "metadata": {
  "kernelspec": {
   "display_name": "Python [conda env:base] *",
   "language": "python",
   "name": "conda-base-py"
  },
  "language_info": {
   "codemirror_mode": {
    "name": "ipython",
    "version": 3
   },
   "file_extension": ".py",
   "mimetype": "text/x-python",
   "name": "python",
   "nbconvert_exporter": "python",
   "pygments_lexer": "ipython3",
   "version": "3.13.5"
  }
 },
 "nbformat": 4,
 "nbformat_minor": 5
}
